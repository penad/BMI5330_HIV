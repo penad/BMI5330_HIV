{
 "cells": [
  {
   "cell_type": "markdown",
   "metadata": {},
   "source": [
    "# Purpose\n",
    "In this notebook, there are two goals. <br>\n",
    "1. We will look at a study that looked at 14 subject's HIV sequences at two timepoints. With these sequences, we will construct a phylogenetic tree and compute similarity scores between the two timepoint RNA sequences.\n",
    "2. We will explore some conservation patterns of the HORMAD2 gene. This gene is has been shown to have many integration sites that the Human Immunodeficiency Virus (HIV) targets when integrating into the human DNA. Towards the end of the notebook, we will look at DNase signals as well.\n",
    " \n",
    "\n",
    "## Papers Used as Inspiration for this Notebook\n",
    "\n",
    "Abdissa, A., Yilma, D., Fonager, J., Audelin, A. M., Christensen, L. H., Olsen, M. F., … Andersen, A. B. (2014). Drug resistance in HIV patients with virological failure or slow virological response to antiretroviral therapy in Ethiopia. BMC Infectious Diseases, 14(1). doi:10.1186/1471-2334-14-181\n",
    "\n",
    "Maldarelli, F., Wu, X., Su, L., Simonetti, F., Wells, D., Shao, W., … Hughes, S. (2016). B-108 Specific HIV integration sites are linked to clonal expansion and persistence of infected cells. JAIDS Journal of Acquired Immune Deficiency Syndromes, 71, 44. doi:10.1097/01.qai.0000479721.09749.2d\n",
    "\n",
    "## Data\n",
    "HIV RNA Data <br>\n",
    "https://www.hiv.lanl.gov/components/sequence/HIV/search/search.comp?submit=Retrieve+selected+sets&ipsearch_selected=0&value+patient+pat_num_timepoints+4=*&value+PUBlication+PUB_pubmedEntry+4=*&value+publication+pub_articletitle+1=%21%3D+DirectwholeSubmission&ipsearch=e8ac5ada&action=search \n",
    "<br>\n",
    "<br>\n",
    "Supplmentary Data from second paper: \n",
    "<br>\n",
    "https://www.ncbi.nlm.nih.gov/pmc/articles/PMC4262401/bin/NIHMS646339-supplement-Maldarelli_et_al_Supplementary_data.pdf\n",
    "<br><br>\n",
    "Conservation Data <br>\n",
    "http://hgdownload.soe.ucsc.edu/goldenPath/hg19/phyloP100way/ \n",
    "<br>\n",
    "<br>\n",
    "Gene Exons \n",
    "<br>\n",
    "https://useast.ensembl.org/Homo_sapiens/Transcript/Exons?db=core;g=ENSG00000176635;r=22:30080174-30177075;t=ENST00000336726\n",
    "<br>\n",
    "<br>\n",
    "DNase Signal Data <br>\n",
    "http://hgdownload.soe.ucsc.edu/goldenPath/hg19/encodeDCC/wgEncodeUwDnase/wgEncodeUwDnaseGm12878RawRep1.bigWig\n",
    "<br>\n",
    "<br>\n",
    "\n",
    "## Phylogenetic Tree Tool\n",
    "EMBL-EBI Phylo Tool <br>\n",
    "https://www.ebi.ac.uk/Tools/phylogeny/simple_phylogeny/\n",
    "\n",
    "### Contact\n",
    "Please contact Danilo Pena (danilo.a.pena@uth.tmc.edu) for any questions or concerns. \n",
    "\n",
    "Thank you for passing by."
   ]
  },
  {
   "cell_type": "markdown",
   "metadata": {},
   "source": [
    "# Imports"
   ]
  },
  {
   "cell_type": "code",
   "execution_count": 1,
   "metadata": {},
   "outputs": [],
   "source": [
    "#Imports\n",
    "import pandas as pd\n",
    "import seaborn as sns\n",
    "import matplotlib.pyplot as plt\n",
    "import matplotlib.ticker as plticker\n",
    "import numpy as np\n",
    "import math\n",
    "\n",
    "#Stats package\n",
    "import scipy.stats as stats\n",
    "\n",
    "#Plotting in the notebook\n",
    "%matplotlib inline\n",
    "\n",
    "#Sequence analysis libraries\n",
    "from Bio import pairwise2\n",
    "from Bio.pairwise2 import format_alignment\n",
    "from Bio import SeqIO\n",
    "from Bio.SubsMat import MatrixInfo as matlist"
   ]
  },
  {
   "cell_type": "markdown",
   "metadata": {},
   "source": [
    "# HIV RNA Analysis"
   ]
  },
  {
   "cell_type": "code",
   "execution_count": 2,
   "metadata": {},
   "outputs": [],
   "source": [
    "#Matrix used to calculate similarity score \n",
    "matrix = matlist.blosum62\n",
    "\n",
    "#Retrieve aligned sequences\n",
    "sequences = []\n",
    "ids = []\n",
    "\n",
    "#Open fasta file and retrieve sequences/ids\n",
    "for record in SeqIO.parse(\"abdissa_2_aligned.fasta\", \"fasta\"):\n",
    "    sequences.append(record.seq)\n",
    "    ids.append(record.id)"
   ]
  },
  {
   "cell_type": "code",
   "execution_count": 3,
   "metadata": {},
   "outputs": [],
   "source": [
    "#List of IDs\n",
    "all_ids = []\n",
    "\n",
    "#Grab ids of samples\n",
    "for i in ids:\n",
    "    cur_id = i[0:3]\n",
    "    \n",
    "    all_ids.append(cur_id)\n",
    "\n",
    "#Ensure that ids are a set\n",
    "all_ids = set(all_ids)"
   ]
  },
  {
   "cell_type": "markdown",
   "metadata": {},
   "source": [
    "## Sequence Work"
   ]
  },
  {
   "cell_type": "code",
   "execution_count": 46,
   "metadata": {
    "scrolled": true
   },
   "outputs": [
    {
     "name": "stdout",
     "output_type": "stream",
     "text": [
      "Indicies for matching samples: [10, 20]\n",
      "Indicies for matching samples: [13, 24]\n",
      "Indicies for matching samples: [0, 18]\n",
      "Indicies for matching samples: [11, 25]\n",
      "Indicies for matching samples: [8, 19]\n",
      "Indicies for matching samples: [3, 16]\n",
      "Indicies for matching samples: [2, 14]\n",
      "Indicies for matching samples: [5, 17]\n",
      "Indicies for matching samples: [6, 21]\n",
      "Indicies for matching samples: [4, 22]\n",
      "Indicies for matching samples: [9, 26]\n",
      "Indicies for matching samples: [12, 27]\n",
      "Indicies for matching samples: [1, 15]\n",
      "Indicies for matching samples: [7, 23]\n"
     ]
    }
   ],
   "source": [
    "#Array that will be turned into dataframe for the alignment scores\n",
    "matching_df = []\n",
    "\n",
    "#Loop through all samples\n",
    "for i in all_ids:\n",
    "    \n",
    "    indices = []\n",
    "    \n",
    "    #Ensure that samples match\n",
    "    for j in range(len(ids)):\n",
    "        \n",
    "        if ids[j][0:3] == i:\n",
    "            indices.append(j)\n",
    "\n",
    "    print('Indicies for matching samples:', indices)\n",
    "    \n",
    "#     #Percentage of matches in RNA sequences and print\n",
    "#     alignments = (pairwise2.align.globalxx(sequences[indices[0]], sequences[indices[1]]))\n",
    "#     print('Percentage of matches', alignments[0][2] / min((len(sequences[indices[0]]), len(sequences[indices[1]]))))\n",
    "    \n",
    "    #Append to dataframe\n",
    "    matching_df.append({'sample': indices[0]+1, 'percentage_match':alignments[0][2] / min((len(sequences[indices[0]]), len(sequences[indices[1]])))})"
   ]
  },
  {
   "cell_type": "code",
   "execution_count": 7,
   "metadata": {},
   "outputs": [],
   "source": [
    "#Turn array to dataframe\n",
    "matching_df = pd.DataFrame(matching_df)"
   ]
  },
  {
   "cell_type": "code",
   "execution_count": 8,
   "metadata": {},
   "outputs": [
    {
     "data": {
      "text/plain": [
       "(0.9, 1)"
      ]
     },
     "execution_count": 8,
     "metadata": {},
     "output_type": "execute_result"
    },
    {
     "data": {
      "image/png": "[encoded data removed]",
      "text/plain": [
       "<matplotlib.figure.Figure at 0x17ead844828>"
      ]
     },
     "metadata": {},
     "output_type": "display_data"
    }
   ],
   "source": [
    "#Plot percentage match of RNA\n",
    "plt.figure(figsize=(10, 8))\n",
    "# plt.rcParams.update({'font.size': 16})\n",
    "plt.title('Boxplot of Percentage Match Between Patients Samples at Two Timepoints')\n",
    "sns.barplot(x='sample', y='percentage_match', data=matching_df)\n",
    "plt.xlabel('Patient Number')\n",
    "plt.ylabel('Percentage Match')\n",
    "plt.ylim((0.9, 1)) "
   ]
  },
  {
   "cell_type": "markdown",
   "metadata": {},
   "source": [
    "## Phylo Tree"
   ]
  },
  {
   "cell_type": "code",
   "execution_count": 9,
   "metadata": {},
   "outputs": [
    {
     "name": "stdout",
     "output_type": "stream",
     "text": [
      "Phylogenetic Tree of HIV RNA Samples\n",
      "\n",
      "         /-146.KJ561122.C.2011.1299.HIV-1\n",
      "      /-|\n",
      "     |   \\-146.KJ561141.C.2012.1299.HIV-1\n",
      "   /-|\n",
      "  |  |   /-300.KJ561128.C.2011.1299.HIV-1\n",
      "  |   \\-|\n",
      "  |      \\-300.KJ561144.C.2012.1299.HIV-1\n",
      "  |\n",
      "  |               /-157.KJ561123.C.2011.1299.HIV-1\n",
      "  |            /-|\n",
      "  |           |   \\-157.KJ561138.C.2012.1299.HIV-1\n",
      "  |         /-|\n",
      "  |        |  |   /-243.KJ561125.C.2011.1299.HIV-1\n",
      "  |        |   \\-|\n",
      "  |      /-|      \\-243.KJ561139.C.2011.1299.HIV-1\n",
      "  |     |  |\n",
      "  |     |  |   /-314.KJ561136.C.2011.1299.HIV-1\n",
      "  |     |   \\-|\n",
      "  |     |      \\-314.KJ561147.C.2012.1299.HIV-1\n",
      "  |     |\n",
      "  |   /-|         /-346.KJ561131.C.2012.1299.HIV-1\n",
      "  |  |  |      /-|\n",
      "  |  |  |     |   \\-346.KJ561149.C.2012.1299.HIV-1\n",
      "  |  |  |   /-|\n",
      "  |  |  |  |  |   /-360.KJ561134.C.2010.1299.HIV-1\n",
      "  |  |  |  |   \\-|\n",
      "  |  |   \\-|      \\-360.KJ561148.C.2011.1299.HIV-1\n",
      "  |  |     |\n",
      "--|  |     |   /-357.KJ561133.C.2012.1299.HIV-1\n",
      "  |  |      \\-|\n",
      "  |  |         \\-357.KJ561143.C.2012.1299.HIV-1\n",
      "  |--|\n",
      "  |  |         /-213.KJ561124.C.2011.1299.HIV-1\n",
      "  |  |      /-|\n",
      "  |  |     |   \\-213.KJ561137.C.2011.1299.HIV-1\n",
      "  |  |     |\n",
      "  |  |   /-|      /-25.KJ561126.C.2011.1299.HIV-1\n",
      "  |  |  |  |   /-|\n",
      "  |  |  |  |  |  |   /-269.KJ561127.C.2011.1299.HIV-1\n",
      "  |  |  |  |  |   \\-|\n",
      "  |  |  |   \\-|      \\-269.KJ561140.C.2011.1299.HIV-1\n",
      "  |  |  |     |\n",
      "  |   \\-|     |      /-339.KJ561130.C.2012.1299.HIV-1\n",
      "  |     |     |   /-|\n",
      "  |     |      \\-|   \\-339.KJ561142.C.2012.1299.HIV-1\n",
      "  |     |        |\n",
      "  |     |         \\-25.KJ561145.C.2012.1299.HIV-1\n",
      "  |     |\n",
      "  |     |   /-301.KJ561129.C.2012.1299.HIV-1\n",
      "  |      \\-|\n",
      "  |         \\-301.KJ561146.C.2012.1299.HIV-1\n",
      "  |\n",
      "  |   /-9.KJ561135.C.2011.1299.HIV-1\n",
      "   \\-|\n",
      "      \\-9.KJ561150.C.2012.1299.HIV-1\n"
     ]
    }
   ],
   "source": [
    "#Phylo tree plot\n",
    "from ete3 import Tree\n",
    "tree = Tree('tree.xml')\n",
    "print('Phylogenetic Tree of HIV RNA Samples')\n",
    "print(tree)"
   ]
  },
  {
   "cell_type": "markdown",
   "metadata": {},
   "source": [
    "# CHR 22 HORMAD2"
   ]
  },
  {
   "cell_type": "markdown",
   "metadata": {},
   "source": [
    "## Conservation"
   ]
  },
  {
   "cell_type": "code",
   "execution_count": 10,
   "metadata": {},
   "outputs": [],
   "source": [
    "#Read in chromosome 22 conservation data\n",
    "hormad_consv = pd.read_csv('chr22_consv.bgr', sep='\\t', header=None)"
   ]
  },
  {
   "cell_type": "code",
   "execution_count": 11,
   "metadata": {},
   "outputs": [
    {
     "data": {
      "text/html": [
       "<div>\n",
       "<style scoped>\n",
       "    .dataframe tbody tr th:only-of-type {\n",
       "        vertical-align: middle;\n",
       "    }\n",
       "\n",
       "    .dataframe tbody tr th {\n",
       "        vertical-align: top;\n",
       "    }\n",
       "\n",
       "    .dataframe thead th {\n",
       "        text-align: right;\n",
       "    }\n",
       "</style>\n",
       "<table border=\"1\" class=\"dataframe\">\n",
       "  <thead>\n",
       "    <tr style=\"text-align: right;\">\n",
       "      <th></th>\n",
       "      <th>chr</th>\n",
       "      <th>start</th>\n",
       "      <th>end</th>\n",
       "      <th>conservation</th>\n",
       "    </tr>\n",
       "  </thead>\n",
       "  <tbody>\n",
       "    <tr>\n",
       "      <th>32239905</th>\n",
       "      <td>chr22</td>\n",
       "      <td>51244022</td>\n",
       "      <td>51244023</td>\n",
       "      <td>0.122</td>\n",
       "    </tr>\n",
       "    <tr>\n",
       "      <th>32239906</th>\n",
       "      <td>chr22</td>\n",
       "      <td>51244023</td>\n",
       "      <td>51244027</td>\n",
       "      <td>0.104</td>\n",
       "    </tr>\n",
       "    <tr>\n",
       "      <th>32239907</th>\n",
       "      <td>chr22</td>\n",
       "      <td>51244027</td>\n",
       "      <td>51244029</td>\n",
       "      <td>0.117</td>\n",
       "    </tr>\n",
       "    <tr>\n",
       "      <th>32239908</th>\n",
       "      <td>chr22</td>\n",
       "      <td>51244029</td>\n",
       "      <td>51244030</td>\n",
       "      <td>0.106</td>\n",
       "    </tr>\n",
       "    <tr>\n",
       "      <th>32239909</th>\n",
       "      <td>chr22</td>\n",
       "      <td>51244030</td>\n",
       "      <td>51244031</td>\n",
       "      <td>0.104</td>\n",
       "    </tr>\n",
       "  </tbody>\n",
       "</table>\n",
       "</div>"
      ],
      "text/plain": [
       "            chr     start       end  conservation\n",
       "32239905  chr22  51244022  51244023         0.122\n",
       "32239906  chr22  51244023  51244027         0.104\n",
       "32239907  chr22  51244027  51244029         0.117\n",
       "32239908  chr22  51244029  51244030         0.106\n",
       "32239909  chr22  51244030  51244031         0.104"
      ]
     },
     "execution_count": 11,
     "metadata": {},
     "output_type": "execute_result"
    }
   ],
   "source": [
    "#Set columns and show dataframe\n",
    "cols = ['chr', 'start', 'end', 'conservation']\n",
    "hormad_consv.columns = cols\n",
    "hormad_consv.tail()"
   ]
  },
  {
   "cell_type": "code",
   "execution_count": 12,
   "metadata": {},
   "outputs": [],
   "source": [
    "#Integration of signal\n",
    "hormad_consv['integration_of_signal'] = hormad_consv['conservation'] * (abs(hormad_consv['end'] - hormad_consv['start']))"
   ]
  },
  {
   "cell_type": "code",
   "execution_count": 13,
   "metadata": {},
   "outputs": [],
   "source": [
    "#Read in exon data \n",
    "hormad_exons = pd.read_csv('exon_regions.csv')"
   ]
  },
  {
   "cell_type": "code",
   "execution_count": 14,
   "metadata": {},
   "outputs": [
    {
     "data": {
      "text/html": [
       "<div>\n",
       "<style scoped>\n",
       "    .dataframe tbody tr th:only-of-type {\n",
       "        vertical-align: middle;\n",
       "    }\n",
       "\n",
       "    .dataframe tbody tr th {\n",
       "        vertical-align: top;\n",
       "    }\n",
       "\n",
       "    .dataframe thead th {\n",
       "        text-align: right;\n",
       "    }\n",
       "</style>\n",
       "<table border=\"1\" class=\"dataframe\">\n",
       "  <thead>\n",
       "    <tr style=\"text-align: right;\">\n",
       "      <th></th>\n",
       "      <th>region</th>\n",
       "      <th>start</th>\n",
       "      <th>end</th>\n",
       "      <th>region_length</th>\n",
       "      <th>phase_at_end</th>\n",
       "    </tr>\n",
       "  </thead>\n",
       "  <tbody>\n",
       "    <tr>\n",
       "      <th>0</th>\n",
       "      <td>UTR_1</td>\n",
       "      <td>30,489,904</td>\n",
       "      <td>30,489,941</td>\n",
       "      <td>NaN</td>\n",
       "      <td>NaN</td>\n",
       "    </tr>\n",
       "    <tr>\n",
       "      <th>1</th>\n",
       "      <td>Exon_1</td>\n",
       "      <td>30,489,942</td>\n",
       "      <td>30,489,992</td>\n",
       "      <td>51.0</td>\n",
       "      <td>0.0</td>\n",
       "    </tr>\n",
       "    <tr>\n",
       "      <th>2</th>\n",
       "      <td>Exon_2</td>\n",
       "      <td>30,494,841</td>\n",
       "      <td>30,494,982</td>\n",
       "      <td>142.0</td>\n",
       "      <td>1.0</td>\n",
       "    </tr>\n",
       "    <tr>\n",
       "      <th>3</th>\n",
       "      <td>Exon_3</td>\n",
       "      <td>30,499,426</td>\n",
       "      <td>30,499,489</td>\n",
       "      <td>64.0</td>\n",
       "      <td>2.0</td>\n",
       "    </tr>\n",
       "    <tr>\n",
       "      <th>4</th>\n",
       "      <td>Exon_4</td>\n",
       "      <td>30,500,390</td>\n",
       "      <td>30,500,426</td>\n",
       "      <td>37.0</td>\n",
       "      <td>0.0</td>\n",
       "    </tr>\n",
       "    <tr>\n",
       "      <th>5</th>\n",
       "      <td>Exon_5</td>\n",
       "      <td>30,507,785</td>\n",
       "      <td>30,507,805</td>\n",
       "      <td>21.0</td>\n",
       "      <td>0.0</td>\n",
       "    </tr>\n",
       "    <tr>\n",
       "      <th>6</th>\n",
       "      <td>Exon_6</td>\n",
       "      <td>30,508,485</td>\n",
       "      <td>30,508,511</td>\n",
       "      <td>27.0</td>\n",
       "      <td>0.0</td>\n",
       "    </tr>\n",
       "    <tr>\n",
       "      <th>7</th>\n",
       "      <td>Exon_7</td>\n",
       "      <td>30,514,969</td>\n",
       "      <td>30,515,036</td>\n",
       "      <td>68.0</td>\n",
       "      <td>2.0</td>\n",
       "    </tr>\n",
       "    <tr>\n",
       "      <th>8</th>\n",
       "      <td>Exon_8</td>\n",
       "      <td>30,517,621</td>\n",
       "      <td>30,517,778</td>\n",
       "      <td>158.0</td>\n",
       "      <td>1.0</td>\n",
       "    </tr>\n",
       "    <tr>\n",
       "      <th>9</th>\n",
       "      <td>Exon_9</td>\n",
       "      <td>30,517,953</td>\n",
       "      <td>30,518,203</td>\n",
       "      <td>251.0</td>\n",
       "      <td>0.0</td>\n",
       "    </tr>\n",
       "    <tr>\n",
       "      <th>10</th>\n",
       "      <td>Exon_10</td>\n",
       "      <td>30,572,052</td>\n",
       "      <td>30,572,156</td>\n",
       "      <td>105.0</td>\n",
       "      <td>0.0</td>\n",
       "    </tr>\n",
       "    <tr>\n",
       "      <th>11</th>\n",
       "      <td>UTR_2</td>\n",
       "      <td>30,572,157</td>\n",
       "      <td>30,573,062</td>\n",
       "      <td>NaN</td>\n",
       "      <td>NaN</td>\n",
       "    </tr>\n",
       "  </tbody>\n",
       "</table>\n",
       "</div>"
      ],
      "text/plain": [
       "     region       start         end  region_length  phase_at_end\n",
       "0     UTR_1  30,489,904  30,489,941            NaN           NaN\n",
       "1    Exon_1  30,489,942  30,489,992           51.0           0.0\n",
       "2    Exon_2  30,494,841  30,494,982          142.0           1.0\n",
       "3    Exon_3  30,499,426  30,499,489           64.0           2.0\n",
       "4    Exon_4  30,500,390  30,500,426           37.0           0.0\n",
       "5    Exon_5  30,507,785  30,507,805           21.0           0.0\n",
       "6    Exon_6  30,508,485  30,508,511           27.0           0.0\n",
       "7    Exon_7  30,514,969  30,515,036           68.0           2.0\n",
       "8    Exon_8  30,517,621  30,517,778          158.0           1.0\n",
       "9    Exon_9  30,517,953  30,518,203          251.0           0.0\n",
       "10  Exon_10  30,572,052  30,572,156          105.0           0.0\n",
       "11    UTR_2  30,572,157  30,573,062            NaN           NaN"
      ]
     },
     "execution_count": 14,
     "metadata": {},
     "output_type": "execute_result"
    }
   ],
   "source": [
    "#Set columns and show data\n",
    "hormad_exons.columns = ['region', 'start', 'end', 'region_length', 'phase_at_end']\n",
    "hormad_exons"
   ]
  },
  {
   "cell_type": "markdown",
   "metadata": {},
   "source": [
    "### Whole Gene"
   ]
  },
  {
   "cell_type": "code",
   "execution_count": 15,
   "metadata": {},
   "outputs": [],
   "source": [
    "#Set the start/end \n",
    "hormad_start = 30476452\n",
    "hormad_end = 30573062\n",
    "\n",
    "#Filter conservation for HORMAD2 gene\n",
    "hormad_start_end_consv = hormad_consv[(hormad_consv['start'] > hormad_start) & (hormad_consv['end'] < hormad_end)]"
   ]
  },
  {
   "cell_type": "code",
   "execution_count": 16,
   "metadata": {},
   "outputs": [
    {
     "name": "stdout",
     "output_type": "stream",
     "text": [
      "Sum of Conservation:  26147.568\n",
      "Mean Conservation:  0.2889776864162385\n",
      "Standard Deviation of Conservation:  1.0058046378049506\n"
     ]
    }
   ],
   "source": [
    "print('Sum of Conservation: ', hormad_start_end_consv['integration_of_signal'].sum())\n",
    "print('Mean Conservation: ', hormad_start_end_consv['integration_of_signal'].mean())\n",
    "print('Standard Deviation of Conservation: ', hormad_start_end_consv['integration_of_signal'].std())"
   ]
  },
  {
   "cell_type": "code",
   "execution_count": 17,
   "metadata": {},
   "outputs": [
    {
     "data": {
      "text/plain": [
       "Text(0.5,0,'Conservation')"
      ]
     },
     "execution_count": 17,
     "metadata": {},
     "output_type": "execute_result"
    },
    {
     "data": {
      "image/png": "[encoded data removed]",
      "text/plain": [
       "<matplotlib.figure.Figure at 0x17e8005a9e8>"
      ]
     },
     "metadata": {},
     "output_type": "display_data"
    }
   ],
   "source": [
    "#Plot\n",
    "plt.figure(figsize=(10, 8))\n",
    "# plt.rcParams.update({'font.size': 16})\n",
    "plt.title('Boxplot of Conservation of HORMAD2 Gene')\n",
    "sns.boxplot(hormad_start_end_consv['integration_of_signal'])\n",
    "plt.xlabel('Conservation')"
   ]
  },
  {
   "cell_type": "markdown",
   "metadata": {},
   "source": [
    "### Promoter Region"
   ]
  },
  {
   "cell_type": "code",
   "execution_count": 18,
   "metadata": {},
   "outputs": [],
   "source": [
    "#Number of nucleotides before HORMAD2 start\n",
    "thresh = 500\n",
    "\n",
    "#Reset bounds\n",
    "hormad_promoter_start = hormad_start - thresh\n",
    "hormad_promoter_end = hormad_start \n",
    "\n",
    "#Filter\n",
    "hormad_promoter_consv = hormad_consv[(hormad_consv['start'] > hormad_promoter_start) & (hormad_consv['end'] < hormad_promoter_end)]"
   ]
  },
  {
   "cell_type": "code",
   "execution_count": 19,
   "metadata": {},
   "outputs": [
    {
     "data": {
      "text/plain": [
       "Text(0.5,0,'Conservation')"
      ]
     },
     "execution_count": 19,
     "metadata": {},
     "output_type": "execute_result"
    },
    {
     "data": {
      "image/png": "[encoded data removed]",
      "text/plain": [
       "<matplotlib.figure.Figure at 0x17ed3669198>"
      ]
     },
     "metadata": {},
     "output_type": "display_data"
    }
   ],
   "source": [
    "#Plot\n",
    "plt.figure(figsize=(10, 8))\n",
    "# plt.rcParams.update({'font.size': 16})\n",
    "plt.title('Boxplot of Conservation of Promoter Region of HORMAD2 Gene')\n",
    "sns.boxplot(hormad_promoter_consv['integration_of_signal'])\n",
    "plt.xlabel('Conservation')"
   ]
  },
  {
   "cell_type": "code",
   "execution_count": 20,
   "metadata": {},
   "outputs": [
    {
     "name": "stdout",
     "output_type": "stream",
     "text": [
      "Sum of Conservation:  -228.947\n",
      "Mean Conservation:  -0.4606579476861173\n",
      "Standard Deviation of Conservation:  1.3328044164854191\n"
     ]
    }
   ],
   "source": [
    "print('Sum of Conservation: ', hormad_promoter_consv['integration_of_signal'].sum())\n",
    "print('Mean Conservation: ', hormad_promoter_consv['integration_of_signal'].mean())\n",
    "print('Standard Deviation of Conservation: ', hormad_promoter_consv['integration_of_signal'].std())"
   ]
  },
  {
   "cell_type": "markdown",
   "metadata": {},
   "source": [
    "### Exons"
   ]
  },
  {
   "cell_type": "code",
   "execution_count": 21,
   "metadata": {
    "scrolled": true
   },
   "outputs": [
    {
     "name": "stdout",
     "output_type": "stream",
     "text": [
      "Region:  UTR_1\n",
      "Conservation Sum:  17.281\n",
      "Conservation Mean:  0.493742857142857\n",
      "----------\n",
      "Region:  Exon_1\n",
      "Conservation Sum:  47.82\n",
      "Conservation Mean:  0.99625\n",
      "----------\n",
      "Region:  Exon_2\n",
      "Conservation Sum:  289.52\n",
      "Conservation Mean:  2.1288235294117643\n",
      "----------\n",
      "Region:  Exon_3\n",
      "Conservation Sum:  136.007\n",
      "Conservation Mean:  2.3052033898305084\n",
      "----------\n",
      "Region:  Exon_4\n",
      "Conservation Sum:  90.071\n",
      "Conservation Mean:  2.6491470588235293\n",
      "----------\n",
      "Region:  Exon_5\n",
      "Conservation Sum:  35.613\n",
      "Conservation Mean:  2.094882352941177\n",
      "----------\n",
      "Region:  Exon_6\n",
      "Conservation Sum:  55.506\n",
      "Conservation Mean:  2.4133043478260876\n",
      "----------\n",
      "Region:  Exon_7\n",
      "Conservation Sum:  207.784\n",
      "Conservation Mean:  3.2466250000000003\n",
      "----------\n",
      "Region:  Exon_8\n",
      "Conservation Sum:  370.436\n",
      "Conservation Mean:  2.4054285714285717\n",
      "----------\n",
      "Region:  Exon_9\n",
      "Conservation Sum:  494.866\n",
      "Conservation Mean:  2.0281393442622937\n",
      "----------\n",
      "Region:  Exon_10\n",
      "Conservation Sum:  120.822\n",
      "Conservation Mean:  1.1962574257425738\n",
      "----------\n",
      "Region:  UTR_2\n",
      "Conservation Sum:  488.006\n",
      "Conservation Mean:  0.5428320355951055\n",
      "----------\n"
     ]
    }
   ],
   "source": [
    "#Exploring the exons \n",
    "for i in range(len(hormad_exons)):\n",
    "    \n",
    "    #Grab region and start/end coordinates\n",
    "    region = hormad_exons.loc[i]['region']\n",
    "    start = (int(hormad_exons.loc[i]['start'].replace(',','')))\n",
    "    end = (int(hormad_exons.loc[i]['end'].replace(',','')))\n",
    "    \n",
    "    #Filter\n",
    "    cur_df = hormad_consv[(hormad_consv['start'] > start) & (hormad_consv['end'] < end)]\n",
    "    \n",
    "    #Print statements\n",
    "    print('Region: ', region)\n",
    "    print('Conservation Sum: ', cur_df['integration_of_signal'].sum())\n",
    "    print('Conservation Mean: ', cur_df['integration_of_signal'].mean())\n",
    "    print('--'*5)"
   ]
  },
  {
   "cell_type": "code",
   "execution_count": 22,
   "metadata": {},
   "outputs": [
    {
     "name": "stderr",
     "output_type": "stream",
     "text": [
      "C:\\Users\\danil\\Anaconda3\\lib\\site-packages\\ipykernel_launcher.py:14: SettingWithCopyWarning: \n",
      "A value is trying to be set on a copy of a slice from a DataFrame.\n",
      "Try using .loc[row_indexer,col_indexer] = value instead\n",
      "\n",
      "See the caveats in the documentation: http://pandas.pydata.org/pandas-docs/stable/indexing.html#indexing-view-versus-copy\n",
      "  \n"
     ]
    }
   ],
   "source": [
    "#Will plot the conservation values within each region\n",
    "frames = []\n",
    "\n",
    "#Loop through exons/UTRs\n",
    "for i in range(len(hormad_exons)):\n",
    "    \n",
    "    #Grab region and start/end coordinates\n",
    "    region = hormad_exons.loc[i]['region']\n",
    "    start = (int(hormad_exons.loc[i]['start'].replace(',','')))\n",
    "    end = (int(hormad_exons.loc[i]['end'].replace(',','')))\n",
    "    \n",
    "    #Filter\n",
    "    cur_df = hormad_consv[(hormad_consv['start'] > start) & (hormad_consv['end'] < end)]\n",
    "    cur_df['region'] = region\n",
    "    \n",
    "    #Ensure that data is correct\n",
    "    cols = ['region', 'integration_of_signal']\n",
    "    df_for_boxplots = cur_df[cols]\n",
    "    \n",
    "    #Append to final processed array\n",
    "    frames.append(df_for_boxplots)\n",
    "\n",
    "#Create dataframe\n",
    "final_df_boxplots = pd.concat(frames)"
   ]
  },
  {
   "cell_type": "code",
   "execution_count": 23,
   "metadata": {},
   "outputs": [
    {
     "data": {
      "text/plain": [
       "Text(0,0.5,'Conservation')"
      ]
     },
     "execution_count": 23,
     "metadata": {},
     "output_type": "execute_result"
    },
    {
     "data": {
      "image/png": "[encoded data removed]",
      "text/plain": [
       "<matplotlib.figure.Figure at 0x17e803cd160>"
      ]
     },
     "metadata": {},
     "output_type": "display_data"
    }
   ],
   "source": [
    "#Plot\n",
    "plt.figure(figsize=(15, 8))\n",
    "# plt.rcParams.update({'font.size': 16})\n",
    "plt.title('Conservation of Different Regions of HORMAD2 Gene')\n",
    "sns.boxplot(x='region', y='integration_of_signal', data=final_df_boxplots)\n",
    "plt.xlabel('Region')\n",
    "plt.ylabel('Conservation')"
   ]
  },
  {
   "cell_type": "code",
   "execution_count": 25,
   "metadata": {},
   "outputs": [],
   "source": [
    "#Now, we will explore the relationship between conservation and DNase signals\n",
    "\n",
    "#Read in data and set columns\n",
    "dnase_signals = pd.read_csv('chr22_dnase.bgr', sep='\\t', header=None)\n",
    "dnase_signals.columns = ['chr', 'start', 'end', 'signal']\n",
    "\n",
    "#Create integration of signal for conservation and dnase signal\n",
    "dnase_signals['integration_of_signal'] = dnase_signals['signal'] * (abs(dnase_signals['end'] - dnase_signals['start']))"
   ]
  },
  {
   "cell_type": "code",
   "execution_count": 26,
   "metadata": {},
   "outputs": [],
   "source": [
    "#Here, we plot\n",
    "data = [] \n",
    "\n",
    "for i, row in hormad_exons.iterrows():\n",
    "    \n",
    "    cur_df = dnase_signals[(dnase_signals['start'] > int(row['start'].replace(',',''))) & (dnase_signals['end'] < int(row['end'].replace(',','')))]\n",
    "    \n",
    "    signal = cur_df['integration_of_signal'].sum()\n",
    "    \n",
    "    data.append({'region': row['region'], 'signal': signal})\n",
    "    \n",
    "site_dnase_signal = pd.DataFrame(data)"
   ]
  },
  {
   "cell_type": "code",
   "execution_count": 27,
   "metadata": {},
   "outputs": [
    {
     "data": {
      "text/plain": [
       "Text(0,0.5,'DNase Signal')"
      ]
     },
     "execution_count": 27,
     "metadata": {},
     "output_type": "execute_result"
    },
    {
     "data": {
      "image/png": "[encoded data removed]",
      "text/plain": [
       "<matplotlib.figure.Figure at 0x17e809a3c18>"
      ]
     },
     "metadata": {},
     "output_type": "display_data"
    }
   ],
   "source": [
    "#Plot\n",
    "plt.figure(figsize=(10, 8))\n",
    "plt.title('Barchart of DNase Signal of Different Regions of HORMAD2 Gene')\n",
    "# plt.rcParams.update({'font.size': 12})\n",
    "sns.barplot(x='region', y='signal', data=site_dnase_signal)\n",
    "plt.xlabel('Region')\n",
    "plt.ylabel('DNase Signal')"
   ]
  },
  {
   "cell_type": "markdown",
   "metadata": {},
   "source": [
    "### Integration Sites"
   ]
  },
  {
   "cell_type": "code",
   "execution_count": 28,
   "metadata": {},
   "outputs": [],
   "source": [
    "#Now we will explore the integration sites from the paper\n",
    "\n",
    "#Read in integration sites taken from supplmentary material\n",
    "integration_sites = pd.read_csv('hormad_integration_sites.txt', sep=' ')"
   ]
  },
  {
   "cell_type": "code",
   "execution_count": 29,
   "metadata": {},
   "outputs": [
    {
     "data": {
      "text/html": [
       "<div>\n",
       "<style scoped>\n",
       "    .dataframe tbody tr th:only-of-type {\n",
       "        vertical-align: middle;\n",
       "    }\n",
       "\n",
       "    .dataframe tbody tr th {\n",
       "        vertical-align: top;\n",
       "    }\n",
       "\n",
       "    .dataframe thead th {\n",
       "        text-align: right;\n",
       "    }\n",
       "</style>\n",
       "<table border=\"1\" class=\"dataframe\">\n",
       "  <thead>\n",
       "    <tr style=\"text-align: right;\">\n",
       "      <th></th>\n",
       "      <th>Sample</th>\n",
       "      <th>Chr</th>\n",
       "      <th>Start</th>\n",
       "      <th>LTR</th>\n",
       "      <th>Strand</th>\n",
       "      <th>End</th>\n",
       "      <th>Distance</th>\n",
       "      <th>Intron/Exon/Distance</th>\n",
       "      <th>Ref_ID</th>\n",
       "      <th>Gene</th>\n",
       "      <th>Strand.1</th>\n",
       "      <th>TxStart</th>\n",
       "      <th>TxEnd</th>\n",
       "    </tr>\n",
       "  </thead>\n",
       "  <tbody>\n",
       "    <tr>\n",
       "      <th>0</th>\n",
       "      <td>PT1_Y11.4</td>\n",
       "      <td>chr22</td>\n",
       "      <td>30514664</td>\n",
       "      <td>5'</td>\n",
       "      <td>&gt;</td>\n",
       "      <td>30514391</td>\n",
       "      <td>273</td>\n",
       "      <td>intron</td>\n",
       "      <td>NM_152510</td>\n",
       "      <td>HORMAD2</td>\n",
       "      <td>+</td>\n",
       "      <td>30476452</td>\n",
       "      <td>30573062</td>\n",
       "    </tr>\n",
       "    <tr>\n",
       "      <th>1</th>\n",
       "      <td>PT3_Y7.2</td>\n",
       "      <td>chr22</td>\n",
       "      <td>30515408</td>\n",
       "      <td>3'</td>\n",
       "      <td>&gt;</td>\n",
       "      <td>30514808</td>\n",
       "      <td>600</td>\n",
       "      <td>intron</td>\n",
       "      <td>NM_152510</td>\n",
       "      <td>HORMAD2</td>\n",
       "      <td>+</td>\n",
       "      <td>30476452</td>\n",
       "      <td>30573062</td>\n",
       "    </tr>\n",
       "    <tr>\n",
       "      <th>2</th>\n",
       "      <td>PT3_Y7.2</td>\n",
       "      <td>chr22</td>\n",
       "      <td>30515408</td>\n",
       "      <td>3'</td>\n",
       "      <td>&gt;</td>\n",
       "      <td>30514848</td>\n",
       "      <td>560</td>\n",
       "      <td>intron</td>\n",
       "      <td>NM_152510</td>\n",
       "      <td>HORMAD2</td>\n",
       "      <td>+</td>\n",
       "      <td>30476452</td>\n",
       "      <td>30573062</td>\n",
       "    </tr>\n",
       "    <tr>\n",
       "      <th>3</th>\n",
       "      <td>PT3_Y7.2</td>\n",
       "      <td>chr22</td>\n",
       "      <td>30515408</td>\n",
       "      <td>3'</td>\n",
       "      <td>&gt;</td>\n",
       "      <td>30514946</td>\n",
       "      <td>462</td>\n",
       "      <td>intron</td>\n",
       "      <td>NM_152510</td>\n",
       "      <td>HORMAD2</td>\n",
       "      <td>+</td>\n",
       "      <td>30476452</td>\n",
       "      <td>30573062</td>\n",
       "    </tr>\n",
       "    <tr>\n",
       "      <th>4</th>\n",
       "      <td>PT3_Y7.2</td>\n",
       "      <td>chr22</td>\n",
       "      <td>30515408</td>\n",
       "      <td>3'</td>\n",
       "      <td>&gt;</td>\n",
       "      <td>30514957</td>\n",
       "      <td>451</td>\n",
       "      <td>intron</td>\n",
       "      <td>NM_152510</td>\n",
       "      <td>HORMAD2</td>\n",
       "      <td>+</td>\n",
       "      <td>30476452</td>\n",
       "      <td>30573062</td>\n",
       "    </tr>\n",
       "  </tbody>\n",
       "</table>\n",
       "</div>"
      ],
      "text/plain": [
       "      Sample    Chr     Start LTR Strand       End  Distance  \\\n",
       "0  PT1_Y11.4  chr22  30514664  5'      >  30514391       273   \n",
       "1   PT3_Y7.2  chr22  30515408  3'      >  30514808       600   \n",
       "2   PT3_Y7.2  chr22  30515408  3'      >  30514848       560   \n",
       "3   PT3_Y7.2  chr22  30515408  3'      >  30514946       462   \n",
       "4   PT3_Y7.2  chr22  30515408  3'      >  30514957       451   \n",
       "\n",
       "  Intron/Exon/Distance     Ref_ID     Gene Strand.1   TxStart     TxEnd  \n",
       "0               intron  NM_152510  HORMAD2        +  30476452  30573062  \n",
       "1               intron  NM_152510  HORMAD2        +  30476452  30573062  \n",
       "2               intron  NM_152510  HORMAD2        +  30476452  30573062  \n",
       "3               intron  NM_152510  HORMAD2        +  30476452  30573062  \n",
       "4               intron  NM_152510  HORMAD2        +  30476452  30573062  "
      ]
     },
     "execution_count": 29,
     "metadata": {},
     "output_type": "execute_result"
    }
   ],
   "source": [
    "#Show data\n",
    "integration_sites.head()"
   ]
  },
  {
   "cell_type": "code",
   "execution_count": 30,
   "metadata": {},
   "outputs": [
    {
     "data": {
      "text/plain": [
       "intron    64\n",
       "Name: Intron/Exon/Distance, dtype: int64"
      ]
     },
     "execution_count": 30,
     "metadata": {},
     "output_type": "execute_result"
    }
   ],
   "source": [
    "integration_sites['Intron/Exon/Distance'].value_counts()"
   ]
  },
  {
   "cell_type": "code",
   "execution_count": 31,
   "metadata": {},
   "outputs": [
    {
     "data": {
      "text/plain": [
       "180.0"
      ]
     },
     "execution_count": 31,
     "metadata": {},
     "output_type": "execute_result"
    }
   ],
   "source": [
    "integration_sites['Distance'].median()"
   ]
  },
  {
   "cell_type": "code",
   "execution_count": 32,
   "metadata": {},
   "outputs": [
    {
     "data": {
      "text/plain": [
       "Text(0.5,0,'Distance (nucleotides)')"
      ]
     },
     "execution_count": 32,
     "metadata": {},
     "output_type": "execute_result"
    },
    {
     "data": {
      "image/png": "[encoded data removed]",
      "text/plain": [
       "<matplotlib.figure.Figure at 0x17e809abb38>"
      ]
     },
     "metadata": {},
     "output_type": "display_data"
    }
   ],
   "source": [
    "#Plot distances of integration sites\n",
    "plt.figure(figsize=(10, 8))\n",
    "# plt.rcParams.update({'font.size': 16})\n",
    "plt.title('Boxplot of Conservation of Integration Site Distances')\n",
    "sns.boxplot(integration_sites['Distance'])\n",
    "plt.xlabel('Distance (nucleotides)')"
   ]
  },
  {
   "cell_type": "code",
   "execution_count": 33,
   "metadata": {},
   "outputs": [],
   "source": [
    "#This block of code will ensure that each integration site is 1000 nucleotides long\n",
    "#This way, we can do some further analysis \n",
    "\n",
    "#Arrays that will store the new integration site start/end coordinates\n",
    "integration_start = []\n",
    "integration_end = []\n",
    "\n",
    "#Loop through main integration site dataframe\n",
    "for i, row in integration_sites.iterrows():\n",
    "    \n",
    "    #Diff will help dictate how to shift the start/ends\n",
    "    diff = (1000 - row['Distance'])/2\n",
    "    \n",
    "    #If even\n",
    "    if diff % 2 == 0:\n",
    "        \n",
    "        #Shift start/end\n",
    "        integration_start_thresh = int(row['Start'] + diff)\n",
    "        integration_end_thresh = int(row['End'] - diff)\n",
    "        \n",
    "        #Append to list\n",
    "        integration_start.append(integration_start_thresh)\n",
    "        integration_end.append(integration_end_thresh)\n",
    "    \n",
    "    #If odd\n",
    "    else:\n",
    "        #Shift start/end\n",
    "        integration_start_thresh = int(row['Start'] + int(diff))\n",
    "        integration_end_thresh = int(row['End'] - math.ceil(diff))\n",
    "\n",
    "        #Append to list\n",
    "        integration_start.append(integration_start_thresh)\n",
    "        integration_end.append(integration_end_thresh)"
   ]
  },
  {
   "cell_type": "code",
   "execution_count": 34,
   "metadata": {
    "scrolled": true
   },
   "outputs": [],
   "source": [
    "#Add arrays into final dataframe\n",
    "integration_sites['start_thresh'] = integration_start\n",
    "integration_sites['end_thresh'] = integration_end"
   ]
  },
  {
   "cell_type": "code",
   "execution_count": 35,
   "metadata": {},
   "outputs": [
    {
     "data": {
      "text/html": [
       "<div>\n",
       "<style scoped>\n",
       "    .dataframe tbody tr th:only-of-type {\n",
       "        vertical-align: middle;\n",
       "    }\n",
       "\n",
       "    .dataframe tbody tr th {\n",
       "        vertical-align: top;\n",
       "    }\n",
       "\n",
       "    .dataframe thead th {\n",
       "        text-align: right;\n",
       "    }\n",
       "</style>\n",
       "<table border=\"1\" class=\"dataframe\">\n",
       "  <thead>\n",
       "    <tr style=\"text-align: right;\">\n",
       "      <th></th>\n",
       "      <th>chr</th>\n",
       "      <th>start</th>\n",
       "      <th>end</th>\n",
       "      <th>conservation</th>\n",
       "      <th>integration_of_signal</th>\n",
       "    </tr>\n",
       "  </thead>\n",
       "  <tbody>\n",
       "    <tr>\n",
       "      <th>0</th>\n",
       "      <td>chr22</td>\n",
       "      <td>16050000</td>\n",
       "      <td>16050001</td>\n",
       "      <td>0.132</td>\n",
       "      <td>0.132</td>\n",
       "    </tr>\n",
       "    <tr>\n",
       "      <th>1</th>\n",
       "      <td>chr22</td>\n",
       "      <td>16050001</td>\n",
       "      <td>16050002</td>\n",
       "      <td>0.127</td>\n",
       "      <td>0.127</td>\n",
       "    </tr>\n",
       "    <tr>\n",
       "      <th>2</th>\n",
       "      <td>chr22</td>\n",
       "      <td>16050002</td>\n",
       "      <td>16050003</td>\n",
       "      <td>0.114</td>\n",
       "      <td>0.114</td>\n",
       "    </tr>\n",
       "    <tr>\n",
       "      <th>3</th>\n",
       "      <td>chr22</td>\n",
       "      <td>16050003</td>\n",
       "      <td>16050004</td>\n",
       "      <td>0.113</td>\n",
       "      <td>0.113</td>\n",
       "    </tr>\n",
       "    <tr>\n",
       "      <th>4</th>\n",
       "      <td>chr22</td>\n",
       "      <td>16050004</td>\n",
       "      <td>16050005</td>\n",
       "      <td>0.114</td>\n",
       "      <td>0.114</td>\n",
       "    </tr>\n",
       "  </tbody>\n",
       "</table>\n",
       "</div>"
      ],
      "text/plain": [
       "     chr     start       end  conservation  integration_of_signal\n",
       "0  chr22  16050000  16050001         0.132                  0.132\n",
       "1  chr22  16050001  16050002         0.127                  0.127\n",
       "2  chr22  16050002  16050003         0.114                  0.114\n",
       "3  chr22  16050003  16050004         0.113                  0.113\n",
       "4  chr22  16050004  16050005         0.114                  0.114"
      ]
     },
     "execution_count": 35,
     "metadata": {},
     "output_type": "execute_result"
    }
   ],
   "source": [
    "#Now that we have integration sites that are 1000 nucleotides long each, we can explore the conservation patterns\n",
    "\n",
    "#Back to our conservation dataframe\n",
    "hormad_consv.head()"
   ]
  },
  {
   "cell_type": "code",
   "execution_count": 36,
   "metadata": {},
   "outputs": [
    {
     "name": "stderr",
     "output_type": "stream",
     "text": [
      "C:\\Users\\danil\\Anaconda3\\lib\\site-packages\\ipykernel_launcher.py:14: SettingWithCopyWarning: \n",
      "A value is trying to be set on a copy of a slice from a DataFrame.\n",
      "Try using .loc[row_indexer,col_indexer] = value instead\n",
      "\n",
      "See the caveats in the documentation: http://pandas.pydata.org/pandas-docs/stable/indexing.html#indexing-view-versus-copy\n",
      "  \n"
     ]
    }
   ],
   "source": [
    "#Array that will store necessary data for plot\n",
    "frames = []\n",
    "\n",
    "#Loop through integration sites\n",
    "for i in range(len(integration_sites)):\n",
    "    \n",
    "    #Grab integration site number, start/end coordinates\n",
    "    integration_num = i\n",
    "    start = integration_sites.loc[i]['start_thresh']\n",
    "    end = integration_sites.loc[i]['end_thresh']\n",
    "    \n",
    "    #Filter\n",
    "    cur_df = hormad_consv[(hormad_consv['start'] < start) & (hormad_consv['end'] > end)]\n",
    "    cur_df['integration_num'] = integration_num\n",
    "    \n",
    "    #Ensure that data are correct\n",
    "    cols = ['integration_num', 'integration_of_signal']\n",
    "    df_for_boxplots = cur_df[cols]\n",
    "    \n",
    "    #Append\n",
    "    frames.append(df_for_boxplots)\n",
    "\n",
    "#Create a dataframe\n",
    "final_df_boxplots = pd.concat(frames)"
   ]
  },
  {
   "cell_type": "code",
   "execution_count": 37,
   "metadata": {},
   "outputs": [
    {
     "data": {
      "text/html": [
       "<div>\n",
       "<style scoped>\n",
       "    .dataframe tbody tr th:only-of-type {\n",
       "        vertical-align: middle;\n",
       "    }\n",
       "\n",
       "    .dataframe tbody tr th {\n",
       "        vertical-align: top;\n",
       "    }\n",
       "\n",
       "    .dataframe thead th {\n",
       "        text-align: right;\n",
       "    }\n",
       "</style>\n",
       "<table border=\"1\" class=\"dataframe\">\n",
       "  <thead>\n",
       "    <tr style=\"text-align: right;\">\n",
       "      <th></th>\n",
       "      <th>integration_num</th>\n",
       "      <th>integration_of_signal</th>\n",
       "    </tr>\n",
       "  </thead>\n",
       "  <tbody>\n",
       "    <tr>\n",
       "      <th>12886453</th>\n",
       "      <td>63</td>\n",
       "      <td>1.587</td>\n",
       "    </tr>\n",
       "    <tr>\n",
       "      <th>12886454</th>\n",
       "      <td>63</td>\n",
       "      <td>0.424</td>\n",
       "    </tr>\n",
       "    <tr>\n",
       "      <th>12886455</th>\n",
       "      <td>63</td>\n",
       "      <td>-0.022</td>\n",
       "    </tr>\n",
       "    <tr>\n",
       "      <th>12886456</th>\n",
       "      <td>63</td>\n",
       "      <td>0.208</td>\n",
       "    </tr>\n",
       "    <tr>\n",
       "      <th>12886457</th>\n",
       "      <td>63</td>\n",
       "      <td>0.407</td>\n",
       "    </tr>\n",
       "  </tbody>\n",
       "</table>\n",
       "</div>"
      ],
      "text/plain": [
       "          integration_num  integration_of_signal\n",
       "12886453               63                  1.587\n",
       "12886454               63                  0.424\n",
       "12886455               63                 -0.022\n",
       "12886456               63                  0.208\n",
       "12886457               63                  0.407"
      ]
     },
     "execution_count": 37,
     "metadata": {},
     "output_type": "execute_result"
    }
   ],
   "source": [
    "#Show data\n",
    "final_df_boxplots.tail()"
   ]
  },
  {
   "cell_type": "code",
   "execution_count": 38,
   "metadata": {},
   "outputs": [
    {
     "data": {
      "text/plain": [
       "Text(0,0.5,'Conservation')"
      ]
     },
     "execution_count": 38,
     "metadata": {},
     "output_type": "execute_result"
    },
    {
     "data": {
      "image/png": "[encoded data removed]",
      "text/plain": [
       "<matplotlib.figure.Figure at 0x17e803c82e8>"
      ]
     },
     "metadata": {},
     "output_type": "display_data"
    }
   ],
   "source": [
    "#Boxplot of all integration sites conservations over 1000 bp\n",
    "plt.figure(figsize=(35, 15))\n",
    "plt.rcParams.update({'font.size': 22})\n",
    "plt.title('Boxplot of Conservation of Integration Sites')\n",
    "sns.boxplot(x='integration_num', y='integration_of_signal', data=final_df_boxplots)\n",
    "plt.xlabel('Integration Site Number')\n",
    "plt.ylabel('Conservation')"
   ]
  },
  {
   "cell_type": "code",
   "execution_count": 39,
   "metadata": {},
   "outputs": [],
   "source": [
    "#Added conservation signals of all integration sites\n",
    "\n",
    "#Array of 500 points\n",
    "add_array = [0]*500\n",
    "\n",
    "#Loop through all integration sites\n",
    "for i in range(len(integration_sites)):\n",
    "    \n",
    "    #Grab start/end values\n",
    "    integration_num = i\n",
    "    start = integration_sites.loc[i]['start_thresh']\n",
    "    end = integration_sites.loc[i]['end_thresh']\n",
    "    \n",
    "    #This ensures that there are enough values to add\n",
    "    #Idea\n",
    "    # Nucleotide 900 ----------------------------- Nucleotide 0\n",
    "    # Take middle 500\n",
    "    # Nucleotide 900 --+----------------------+-- Nucleotide 0 \n",
    "    diff = int((abs(end - start) - 500)/2)\n",
    "    start = start - diff \n",
    "    \n",
    "    cur_df = hormad_consv[(hormad_consv['start'] < start) & (hormad_consv['end'] > end)]\n",
    "    \n",
    "    #Take first 500 (should be middle since we )\n",
    "    add_array = add_array + cur_df['integration_of_signal'].values[:500]"
   ]
  },
  {
   "cell_type": "code",
   "execution_count": 40,
   "metadata": {},
   "outputs": [
    {
     "data": {
      "text/plain": [
       "([<matplotlib.axis.XTick at 0x17e81694a90>,\n",
       "  <matplotlib.axis.XTick at 0x17e81787fd0>,\n",
       "  <matplotlib.axis.XTick at 0x17e8162a978>,\n",
       "  <matplotlib.axis.XTick at 0x17e82dd2438>,\n",
       "  <matplotlib.axis.XTick at 0x17e82dd2a90>],\n",
       " <a list of 5 Text xticklabel objects>)"
      ]
     },
     "execution_count": 40,
     "metadata": {},
     "output_type": "execute_result"
    },
    {
     "data": {
      "image/png": "[encoded data removed]",
      "text/plain": [
       "<matplotlib.figure.Figure at 0x17e816af550>"
      ]
     },
     "metadata": {},
     "output_type": "display_data"
    }
   ],
   "source": [
    "site_num = list(range(len(add_array)))\n",
    "\n",
    "#Plot\n",
    "plt.figure(figsize=(35, 15))\n",
    "plt.rcParams.update({'font.size': 22})\n",
    "plt.title('Conservation Sum of all Integration Sites (500 nucleotides long)')\n",
    "sns.barplot(x=site_num, y=add_array)\n",
    "plt.xlabel('Nucleotide Number (100 bp)')\n",
    "plt.ylabel('Conservation')\n",
    "plt.xticks(np.arange(min(site_num), max(site_num)+1, 100))"
   ]
  },
  {
   "cell_type": "code",
   "execution_count": 41,
   "metadata": {},
   "outputs": [],
   "source": [
    "#Now, we will explore the relationship between conservation and DNase signals\n",
    "\n",
    "#Read in data and set columns\n",
    "dnase_signals = pd.read_csv('chr22_dnase.bgr', sep='\\t', header=None)\n",
    "dnase_signals.columns = ['chr', 'start', 'end', 'signal']\n",
    "\n",
    "#Create integration of signal for conservation and dnase signal\n",
    "dnase_signals['integration_of_signal'] = dnase_signals['signal'] * (abs(dnase_signals['end'] - dnase_signals['start']))"
   ]
  },
  {
   "cell_type": "code",
   "execution_count": 42,
   "metadata": {
    "scrolled": true
   },
   "outputs": [
    {
     "name": "stdout",
     "output_type": "stream",
     "text": [
      "Site:  1\n",
      "Correlation Coefficient  -0.691180393439\n",
      "P-value:  0.308819606561\n",
      "Not Significant\n",
      "---\n",
      "Site:  2\n",
      "Correlation Coefficient  -0.636538066046\n",
      "P-value:  0.363461933954\n",
      "Not Significant\n",
      "---\n",
      "Site:  3\n",
      "Correlation Coefficient  -0.601256406152\n",
      "P-value:  0.398743593848\n",
      "Not Significant\n",
      "---\n",
      "Site:  4\n",
      "Correlation Coefficient  -0.608224105497\n",
      "P-value:  0.391775894503\n",
      "Not Significant\n",
      "---\n",
      "Site:  5\n",
      "Correlation Coefficient  -0.630365747245\n",
      "P-value:  0.369634252755\n",
      "Not Significant\n",
      "---\n",
      "Site:  6\n",
      "Correlation Coefficient  -0.630969524599\n",
      "P-value:  0.369030475401\n",
      "Not Significant\n",
      "---\n",
      "Site:  7\n",
      "Correlation Coefficient  -0.656781826308\n",
      "P-value:  0.343218173692\n",
      "Not Significant\n",
      "---\n",
      "Site:  8\n",
      "Correlation Coefficient  -0.761405633364\n",
      "P-value:  0.238594366636\n",
      "Not Significant\n",
      "---\n",
      "Site:  9\n",
      "Correlation Coefficient  -0.834216138996\n",
      "P-value:  0.165783861004\n",
      "Not Significant\n",
      "---\n",
      "Site:  10\n",
      "Correlation Coefficient  -0.894146255662\n",
      "P-value:  0.105853744338\n",
      "Not Significant\n",
      "---\n",
      "Site:  11\n",
      "Correlation Coefficient  -0.956520328341\n",
      "P-value:  0.0434796716588\n",
      "Statistically Significant!\n",
      "---\n",
      "Site:  12\n",
      "Correlation Coefficient  -0.976765761578\n",
      "P-value:  0.0232342384224\n",
      "Statistically Significant!\n",
      "---\n",
      "Site:  13\n",
      "Correlation Coefficient  -0.956205380926\n",
      "P-value:  0.0437946190741\n",
      "Statistically Significant!\n",
      "---\n",
      "Site:  14\n",
      "Correlation Coefficient  -0.894741997104\n",
      "P-value:  0.105258002896\n",
      "Not Significant\n",
      "---\n",
      "Site:  15\n",
      "Correlation Coefficient  -0.870414803331\n",
      "P-value:  0.129585196669\n",
      "Not Significant\n",
      "---\n",
      "Site:  16\n",
      "Correlation Coefficient  -0.861596926679\n",
      "P-value:  0.138403073321\n",
      "Not Significant\n",
      "---\n",
      "Site:  17\n",
      "Correlation Coefficient  -0.806211780206\n",
      "P-value:  0.193788219794\n",
      "Not Significant\n",
      "---\n",
      "Site:  18\n",
      "Correlation Coefficient  -0.767840035689\n",
      "P-value:  0.232159964311\n",
      "Not Significant\n",
      "---\n",
      "Site:  19\n",
      "Correlation Coefficient  -0.734058745222\n",
      "P-value:  0.265941254778\n",
      "Not Significant\n",
      "---\n",
      "Site:  20\n",
      "Correlation Coefficient  -0.723689999612\n",
      "P-value:  0.276310000388\n",
      "Not Significant\n",
      "---\n",
      "Site:  21\n",
      "Correlation Coefficient  -0.723494014887\n",
      "P-value:  0.276505985113\n",
      "Not Significant\n",
      "---\n",
      "Site:  22\n",
      "Correlation Coefficient  -0.633905406598\n",
      "P-value:  0.366094593402\n",
      "Not Significant\n",
      "---\n",
      "Site:  23\n",
      "Correlation Coefficient  -0.639098221578\n",
      "P-value:  0.360901778422\n",
      "Not Significant\n",
      "---\n",
      "Site:  24\n",
      "Correlation Coefficient  -0.651876603844\n",
      "P-value:  0.348123396156\n",
      "Not Significant\n",
      "---\n",
      "Site:  25\n",
      "Correlation Coefficient  -0.653485383541\n",
      "P-value:  0.346514616459\n",
      "Not Significant\n",
      "---\n",
      "Site:  26\n",
      "Correlation Coefficient  -0.654051636819\n",
      "P-value:  0.345948363181\n",
      "Not Significant\n",
      "---\n",
      "Site:  27\n",
      "Correlation Coefficient  -0.627130843589\n",
      "P-value:  0.372869156411\n",
      "Not Significant\n",
      "---\n",
      "Site:  28\n",
      "Correlation Coefficient  -0.626199769717\n",
      "P-value:  0.373800230283\n",
      "Not Significant\n",
      "---\n",
      "Site:  29\n",
      "Correlation Coefficient  -0.628719066052\n",
      "P-value:  0.371280933948\n",
      "Not Significant\n",
      "---\n",
      "Site:  30\n",
      "Correlation Coefficient  -0.623977855415\n",
      "P-value:  0.376022144585\n",
      "Not Significant\n",
      "---\n",
      "Site:  31\n",
      "Correlation Coefficient  -0.626469492637\n",
      "P-value:  0.373530507363\n",
      "Not Significant\n",
      "---\n",
      "Site:  32\n",
      "Correlation Coefficient  -0.624077978075\n",
      "P-value:  0.375922021925\n",
      "Not Significant\n",
      "---\n",
      "Site:  33\n",
      "Correlation Coefficient  -0.626723143284\n",
      "P-value:  0.373276856716\n",
      "Not Significant\n",
      "---\n",
      "Site:  34\n",
      "Correlation Coefficient  -0.630549345151\n",
      "P-value:  0.369450654849\n",
      "Not Significant\n",
      "---\n",
      "Site:  35\n",
      "Correlation Coefficient  -0.633713404158\n",
      "P-value:  0.366286595842\n",
      "Not Significant\n",
      "---\n",
      "Site:  36\n",
      "Correlation Coefficient  -0.582952681399\n",
      "P-value:  0.417047318601\n",
      "Not Significant\n",
      "---\n",
      "Site:  37\n",
      "Correlation Coefficient  -0.579097047709\n",
      "P-value:  0.420902952291\n",
      "Not Significant\n",
      "---\n",
      "Site:  38\n",
      "Correlation Coefficient  -0.580300674635\n",
      "P-value:  0.419699325365\n",
      "Not Significant\n",
      "---\n",
      "Site:  39\n",
      "Correlation Coefficient  -0.577189118275\n",
      "P-value:  0.422810881725\n",
      "Not Significant\n",
      "---\n",
      "Site:  40\n",
      "Correlation Coefficient  -0.579372229798\n",
      "P-value:  0.420627770202\n",
      "Not Significant\n",
      "---\n",
      "Site:  41\n",
      "Correlation Coefficient  -0.580664234551\n",
      "P-value:  0.419335765449\n",
      "Not Significant\n",
      "---\n",
      "Site:  42\n",
      "Correlation Coefficient  -0.58954435569\n",
      "P-value:  0.41045564431\n",
      "Not Significant\n",
      "---\n",
      "Site:  43\n",
      "Correlation Coefficient  -0.591550928397\n",
      "P-value:  0.408449071603\n",
      "Not Significant\n",
      "---\n",
      "Site:  44\n",
      "Correlation Coefficient  -0.590691377912\n",
      "P-value:  0.409308622088\n",
      "Not Significant\n",
      "---\n",
      "Site:  45\n",
      "Correlation Coefficient  -0.580353856912\n",
      "P-value:  0.419646143088\n",
      "Not Significant\n",
      "---\n",
      "Site:  46\n",
      "Correlation Coefficient  -0.582117019135\n",
      "P-value:  0.417882980865\n",
      "Not Significant\n",
      "---\n",
      "Site:  47\n",
      "Correlation Coefficient  -0.581181688638\n",
      "P-value:  0.418818311362\n",
      "Not Significant\n",
      "---\n",
      "Site:  48\n",
      "Correlation Coefficient  -0.579601486001\n",
      "P-value:  0.420398513999\n",
      "Not Significant\n",
      "---\n",
      "Site:  49\n",
      "Correlation Coefficient  -0.569999486299\n",
      "P-value:  0.430000513701\n",
      "Not Significant\n",
      "---\n",
      "Site:  50\n",
      "Correlation Coefficient  -0.571443409207\n",
      "P-value:  0.428556590793\n",
      "Not Significant\n",
      "---\n",
      "Site:  51\n",
      "Correlation Coefficient  -0.570054119609\n",
      "P-value:  0.429945880391\n",
      "Not Significant\n",
      "---\n",
      "Site:  52\n",
      "Correlation Coefficient  -0.571211898237\n",
      "P-value:  0.428788101763\n",
      "Not Significant\n",
      "---\n",
      "Site:  53\n",
      "Correlation Coefficient  -0.569439983162\n",
      "P-value:  0.430560016838\n",
      "Not Significant\n",
      "---\n",
      "Site:  54\n",
      "Correlation Coefficient  -0.565032410957\n",
      "P-value:  0.434967589043\n",
      "Not Significant\n",
      "---\n",
      "Site:  55\n",
      "Correlation Coefficient  -0.554933065427\n",
      "P-value:  0.445066934573\n",
      "Not Significant\n",
      "---\n",
      "Site:  56\n",
      "Correlation Coefficient  -0.552059667778\n",
      "P-value:  0.447940332222\n",
      "Not Significant\n",
      "---\n",
      "Site:  57\n",
      "Correlation Coefficient  -0.557263928419\n",
      "P-value:  0.442736071581\n",
      "Not Significant\n",
      "---\n",
      "Site:  58\n",
      "Correlation Coefficient  -0.565172610919\n",
      "P-value:  0.434827389081\n",
      "Not Significant\n",
      "---\n",
      "Site:  59\n",
      "Correlation Coefficient  -0.568633600117\n",
      "P-value:  0.431366399883\n",
      "Not Significant\n",
      "---\n",
      "Site:  60\n",
      "Correlation Coefficient  -0.554434144555\n",
      "P-value:  0.445565855445\n",
      "Not Significant\n",
      "---\n",
      "Site:  61\n",
      "Correlation Coefficient  -0.544042653804\n",
      "P-value:  0.455957346196\n",
      "Not Significant\n",
      "---\n",
      "Site:  62\n",
      "Correlation Coefficient  -0.546938354484\n",
      "P-value:  0.453061645516\n",
      "Not Significant\n",
      "---\n",
      "Site:  63\n",
      "Correlation Coefficient  -0.540658921468\n",
      "P-value:  0.459341078532\n",
      "Not Significant\n",
      "---\n",
      "Site:  64\n",
      "Correlation Coefficient  0.222204008962\n",
      "P-value:  0.777795991038\n",
      "Not Significant\n",
      "---\n"
     ]
    }
   ],
   "source": [
    "#This block of code is quite lengthy.\n",
    "#The ultimate goal is to grab each integration site and correlate that site's DNase signal with the conservation\n",
    "#To do this, we must divide each of the data grabbed into four regions, essentially creating four data point pairs\n",
    "#Then we correlate!\n",
    "\n",
    "#Custom ways to segment data into 4 parts\n",
    "dnase_dict = {4: [(0,1), (1,2), (2,3), (3,4)],\n",
    "              8: [(0,2), (2,4), (4,6), (6,8)],\n",
    "              10: [(0,2), (2,5), (5,7), (7,10)],\n",
    "              11: [(0,2), (2,5), (5,8), (8,11)]\n",
    "             }\n",
    "\n",
    "consv_dict = {650: [(0,162), (163,324), (325, 487), (483, 650)],\n",
    "              997: [(0,249), (250,500), (501, 750), (751, 997)],\n",
    "              998: [(0,249), (250,500), (501, 750), (751, 998)]\n",
    "             }\n",
    "\n",
    "#Arrays that will store all data\n",
    "dnase_array_all = []\n",
    "consv_array_all = []\n",
    "\n",
    "#Array for final df\n",
    "stats_df = []\n",
    "\n",
    "#Loop through integration sites\n",
    "for i in range(len(integration_sites)):\n",
    "    \n",
    "    #Start/ends\n",
    "    start = integration_sites.loc[i]['start_thresh']\n",
    "    end = integration_sites.loc[i]['end_thresh']\n",
    "    \n",
    "    #####################################\n",
    "    #DNase signal\n",
    "    cur_dnase_df = dnase_signals[(dnase_signals['start'] < start) & (dnase_signals['end'] > end)]\n",
    "    rows, cols = cur_dnase_df.shape\n",
    "    \n",
    "    #Array to store current integration site's DNase signals\n",
    "    dnase_array = []\n",
    "    \n",
    "    #Loop through each segmented data portion\n",
    "    for j in dnase_dict[rows]:\n",
    "        \n",
    "        #Grab start/end indices\n",
    "        start_dnase, end_dnase = j\n",
    "        \n",
    "        #Sum the signal and append\n",
    "        dnase_sum = cur_dnase_df[start_dnase:end_dnase]['integration_of_signal'].sum()\n",
    "        dnase_array.append(dnase_sum)\n",
    "    \n",
    "    #Append into larger list\n",
    "    dnase_array_all.append(dnase_array)\n",
    "    \n",
    "    #####################################\n",
    "    #Conservation signal\n",
    "    cur_consv_df = hormad_consv[(hormad_consv['start'] < start) & (hormad_consv['end'] > end)]\n",
    "    rows_consv, cols_consv = cur_consv_df.shape\n",
    "    \n",
    "    #Array to store current integration site's conservation signals\n",
    "    consv_array = []\n",
    "\n",
    "    #Loop through each segmented data portion\n",
    "    for j in consv_dict[rows_consv]:\n",
    "        \n",
    "        #Grab start/end indices\n",
    "        start_consv, end_consv = j\n",
    "        \n",
    "        #Sum the signal and append\n",
    "        consv_sum = cur_consv_df[start_consv:end_consv]['integration_of_signal'].sum()\n",
    "        consv_array.append(consv_sum)\n",
    "    \n",
    "    #Append into larger list\n",
    "    consv_array_all.append(consv_array)\n",
    "    \n",
    "    #Print correlation statistics\n",
    "    r, p = stats.pearsonr(dnase_array, consv_array)\n",
    "    print('Site: ', i+1)\n",
    "    print('Correlation Coefficient ', r)\n",
    "    print('P-value: ', p)\n",
    "    \n",
    "    if p <= 0.05:\n",
    "        print('Statistically Significant!')\n",
    "    else:\n",
    "        print('Not Significant')\n",
    "        \n",
    "    stats_df.append({'site': i+1, 'coef': r, 'pval': p})\n",
    "    \n",
    "    print('---')"
   ]
  },
  {
   "cell_type": "code",
   "execution_count": 43,
   "metadata": {},
   "outputs": [
    {
     "data": {
      "text/plain": [
       "Text(0,0.5,'Correlation Coefficient (r)')"
      ]
     },
     "execution_count": 43,
     "metadata": {},
     "output_type": "execute_result"
    },
    {
     "data": {
      "image/png": "[encoded data removed]",
      "text/plain": [
       "<matplotlib.figure.Figure at 0x17e81688048>"
      ]
     },
     "metadata": {},
     "output_type": "display_data"
    }
   ],
   "source": [
    "stats_df = pd.DataFrame(stats_df)\n",
    "\n",
    "#Plot\n",
    "plt.figure(figsize=(20, 8))\n",
    "plt.rcParams.update({'font.size': 12})\n",
    "plt.title('Barchart of Correlation Coefficients of DNase vs. Conservation Signal at Different Integration Sites')\n",
    "sns.barplot(x='site', y='coef', data=stats_df)\n",
    "\n",
    "plt.xlabel('Integration Sites')\n",
    "plt.ylabel('Correlation Coefficient (r)')"
   ]
  },
  {
   "cell_type": "code",
   "execution_count": 44,
   "metadata": {},
   "outputs": [
    {
     "data": {
      "text/plain": [
       "Text(0,0.5,'P-value')"
      ]
     },
     "execution_count": 44,
     "metadata": {},
     "output_type": "execute_result"
    },
    {
     "data": {
      "image/png": "[encoded data removed]",
      "text/plain": [
       "<matplotlib.figure.Figure at 0x17e83154048>"
      ]
     },
     "metadata": {},
     "output_type": "display_data"
    }
   ],
   "source": [
    "#Plot\n",
    "plt.figure(figsize=(20, 8))\n",
    "plt.rcParams.update({'font.size': 12})\n",
    "\n",
    "plt.title('Barchart of Correlation Coefficients P-values of DNase vs. Conservation Signal at Different Integration Sites')\n",
    "sns.barplot(x='site', y='pval', data=stats_df)\n",
    "plt.xlabel('Integration Sites')\n",
    "plt.ylabel('P-value')"
   ]
  },
  {
   "cell_type": "code",
   "execution_count": 45,
   "metadata": {},
   "outputs": [
    {
     "data": {
      "text/html": [
       "<div>\n",
       "<style scoped>\n",
       "    .dataframe tbody tr th:only-of-type {\n",
       "        vertical-align: middle;\n",
       "    }\n",
       "\n",
       "    .dataframe tbody tr th {\n",
       "        vertical-align: top;\n",
       "    }\n",
       "\n",
       "    .dataframe thead th {\n",
       "        text-align: right;\n",
       "    }\n",
       "</style>\n",
       "<table border=\"1\" class=\"dataframe\">\n",
       "  <thead>\n",
       "    <tr style=\"text-align: right;\">\n",
       "      <th></th>\n",
       "      <th>Sample</th>\n",
       "      <th>Chr</th>\n",
       "      <th>Start</th>\n",
       "      <th>LTR</th>\n",
       "      <th>Strand</th>\n",
       "      <th>End</th>\n",
       "      <th>Distance</th>\n",
       "      <th>Intron/Exon/Distance</th>\n",
       "      <th>Ref_ID</th>\n",
       "      <th>Gene</th>\n",
       "      <th>Strand.1</th>\n",
       "      <th>TxStart</th>\n",
       "      <th>TxEnd</th>\n",
       "      <th>start_thresh</th>\n",
       "      <th>end_thresh</th>\n",
       "    </tr>\n",
       "  </thead>\n",
       "  <tbody>\n",
       "    <tr>\n",
       "      <th>9</th>\n",
       "      <td>PT3_Y7.2</td>\n",
       "      <td>chr22</td>\n",
       "      <td>30515408</td>\n",
       "      <td>3'</td>\n",
       "      <td>&gt;</td>\n",
       "      <td>30515056</td>\n",
       "      <td>352</td>\n",
       "      <td>intron</td>\n",
       "      <td>NM_152510</td>\n",
       "      <td>HORMAD2</td>\n",
       "      <td>+</td>\n",
       "      <td>30476452</td>\n",
       "      <td>30573062</td>\n",
       "      <td>30515732</td>\n",
       "      <td>30514732</td>\n",
       "    </tr>\n",
       "    <tr>\n",
       "      <th>10</th>\n",
       "      <td>PT3_Y7.2</td>\n",
       "      <td>chr22</td>\n",
       "      <td>30515408</td>\n",
       "      <td>3'</td>\n",
       "      <td>&gt;</td>\n",
       "      <td>30515070</td>\n",
       "      <td>338</td>\n",
       "      <td>intron</td>\n",
       "      <td>NM_152510</td>\n",
       "      <td>HORMAD2</td>\n",
       "      <td>+</td>\n",
       "      <td>30476452</td>\n",
       "      <td>30573062</td>\n",
       "      <td>30515739</td>\n",
       "      <td>30514739</td>\n",
       "    </tr>\n",
       "    <tr>\n",
       "      <th>11</th>\n",
       "      <td>PT3_Y7.2</td>\n",
       "      <td>chr22</td>\n",
       "      <td>30515408</td>\n",
       "      <td>3'</td>\n",
       "      <td>&gt;</td>\n",
       "      <td>30515076</td>\n",
       "      <td>332</td>\n",
       "      <td>intron</td>\n",
       "      <td>NM_152510</td>\n",
       "      <td>HORMAD2</td>\n",
       "      <td>+</td>\n",
       "      <td>30476452</td>\n",
       "      <td>30573062</td>\n",
       "      <td>30515742</td>\n",
       "      <td>30514742</td>\n",
       "    </tr>\n",
       "    <tr>\n",
       "      <th>12</th>\n",
       "      <td>PT3_Y7.2</td>\n",
       "      <td>chr22</td>\n",
       "      <td>30515408</td>\n",
       "      <td>3'</td>\n",
       "      <td>&gt;</td>\n",
       "      <td>30515092</td>\n",
       "      <td>316</td>\n",
       "      <td>intron</td>\n",
       "      <td>NM_152510</td>\n",
       "      <td>HORMAD2</td>\n",
       "      <td>+</td>\n",
       "      <td>30476452</td>\n",
       "      <td>30573062</td>\n",
       "      <td>30515750</td>\n",
       "      <td>30514750</td>\n",
       "    </tr>\n",
       "  </tbody>\n",
       "</table>\n",
       "</div>"
      ],
      "text/plain": [
       "      Sample    Chr     Start LTR Strand       End  Distance  \\\n",
       "9   PT3_Y7.2  chr22  30515408  3'      >  30515056       352   \n",
       "10  PT3_Y7.2  chr22  30515408  3'      >  30515070       338   \n",
       "11  PT3_Y7.2  chr22  30515408  3'      >  30515076       332   \n",
       "12  PT3_Y7.2  chr22  30515408  3'      >  30515092       316   \n",
       "\n",
       "   Intron/Exon/Distance     Ref_ID     Gene Strand.1   TxStart     TxEnd  \\\n",
       "9                intron  NM_152510  HORMAD2        +  30476452  30573062   \n",
       "10               intron  NM_152510  HORMAD2        +  30476452  30573062   \n",
       "11               intron  NM_152510  HORMAD2        +  30476452  30573062   \n",
       "12               intron  NM_152510  HORMAD2        +  30476452  30573062   \n",
       "\n",
       "    start_thresh  end_thresh  \n",
       "9       30515732    30514732  \n",
       "10      30515739    30514739  \n",
       "11      30515742    30514742  \n",
       "12      30515750    30514750  "
      ]
     },
     "execution_count": 45,
     "metadata": {},
     "output_type": "execute_result"
    }
   ],
   "source": [
    "integration_sites.loc[9:12]"
   ]
  },
  {
   "cell_type": "code",
   "execution_count": null,
   "metadata": {},
   "outputs": [],
   "source": []
  }
 ],
 "metadata": {
  "kernelspec": {
   "display_name": "Python 3",
   "language": "python",
   "name": "python3"
  },
  "language_info": {
   "codemirror_mode": {
    "name": "ipython",
    "version": 3
   },
   "file_extension": ".py",
   "mimetype": "text/x-python",
   "name": "python",
   "nbconvert_exporter": "python",
   "pygments_lexer": "ipython3",
   "version": "3.6.4"
  }
 },
 "nbformat": 4,
 "nbformat_minor": 2
}
